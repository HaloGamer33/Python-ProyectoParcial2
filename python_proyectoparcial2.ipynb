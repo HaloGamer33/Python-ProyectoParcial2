{
  "nbformat": 4,
  "nbformat_minor": 0,
  "metadata": {
    "colab": {
      "provenance": [],
      "gpuType": "T4",
      "collapsed_sections": [
        "pe3Iei65wfaN",
        "J9kIU_K9w1Lv",
        "EMNrtsN4Pbzq"
      ],
      "include_colab_link": true
    },
    "kernelspec": {
      "name": "python3",
      "display_name": "Python 3"
    },
    "language_info": {
      "name": "python"
    }
  },
  "cells": [
    {
      "cell_type": "markdown",
      "metadata": {
        "id": "view-in-github",
        "colab_type": "text"
      },
      "source": [
        "<a href=\"https://colab.research.google.com/github/HaloGamer33/Python-ProyectoParcial2/blob/main/python_proyectoparcial2.ipynb\" target=\"_parent\"><img src=\"https://colab.research.google.com/assets/colab-badge.svg\" alt=\"Open In Colab\"/></a>"
      ]
    },
    {
      "cell_type": "markdown",
      "source": [
        "# Limpieza Base de Datos"
      ],
      "metadata": {
        "id": "pe3Iei65wfaN"
      }
    },
    {
      "cell_type": "code",
      "source": [
        "\"\"\"\n",
        "Limpiado inicial de la base de datos.\n",
        "\n",
        "1. Eliminar todos los valores nulos.\n",
        "2. Separar los buenos candidatos de los malos en dos dataframe.\n",
        "3. Revisar cual de los dataframe tiene menos valores e igualar.\n",
        "4. Juntar los dataframe en uno solo.\n",
        "\n",
        "En este caso la cantidad de malos candidatos es menor a la de buenos candidatos,\n",
        "entonces tenemos que contar cuantos candidatos malos tenemos y de manera aleatoria\n",
        "tomar esa cantidad de candidatos buenos.\n",
        "\n",
        "Ejemplo:\n",
        "\n",
        "No. Buenos candidatos = 700\n",
        "No. Malos candidatos  = 500\n",
        "\n",
        "De manera aleatoria seleccionamos 500 buenos candidatos, y esos seran parte\n",
        "de la base de datos final. Esta se vería así\n",
        "\n",
        "No. Buenos candidatos = 500 (tomados de manera aleatoria de los 700 anteriores)\n",
        "No. Malos candidatos  = 500\n",
        "\"\"\"\n",
        "\n",
        "listado = pd.read_csv(\"/content/Employee.csv\")\n",
        "listado.dropna(inplace = True)\n",
        "\n",
        "leave_workers = listado[listado[\"LeaveOrNot\"] == 1]\n",
        "stay_workers = listado[listado[\"LeaveOrNot\"] == 0]\n",
        "stay_workers = stay_workers.sample(n = 1600)\n",
        "\n",
        "frames = [stay_workers, leave_workers]\n",
        "listado = pd.concat(frames)\n",
        "listado.head\n",
        "\n",
        "listado.to_csv()"
      ],
      "metadata": {
        "id": "qgqNlw4_457C"
      },
      "execution_count": null,
      "outputs": []
    },
    {
      "cell_type": "markdown",
      "source": [
        "# Inicialización DataFrame"
      ],
      "metadata": {
        "id": "J9kIU_K9w1Lv"
      }
    },
    {
      "cell_type": "code",
      "source": [
        "# Imports y lectura de DB\n",
        "import pandas as pd\n",
        "import sklearn\n",
        "import numpy as np\n",
        "from sklearn import svm\n",
        "from sklearn.cluster import KMeans\n",
        "from sklearn.metrics import accuracy_score\n",
        "from sklearn.datasets import make_classification\n",
        "from sklearn.tree import DecisionTreeClassifier\n",
        "from sklearn.neural_network import MLPClassifier\n",
        "\n",
        "listado = pd.read_csv(\"/content/Employee.csv\")"
      ],
      "metadata": {
        "id": "jfTjsMjAdX1L"
      },
      "execution_count": null,
      "outputs": []
    },
    {
      "cell_type": "code",
      "source": [
        "# Remplazo de todos los valores strings a ints.\n",
        "\n",
        "listado = pd.read_csv('/content/Employee.csv')\n",
        "listado['Education'].mask(listado['Education'] == 'Bachelors', '1', inplace=True)\n",
        "listado['Education'].mask(listado['Education'] == 'Masters', '2', inplace=True)\n",
        "listado['Education'].mask(listado['Education'] == 'PHD', '3', inplace=True)\n",
        "\n",
        "listado['City'].mask(listado['City'] == 'Bangalore', '1', inplace=True)\n",
        "listado['City'].mask(listado['City'] == 'New Delhi', '2', inplace=True)\n",
        "listado['City'].mask(listado['City'] == 'Pune', '3', inplace=True)\n",
        "\n",
        "listado['Gender'].mask(listado['Gender'] == 'Female', '1', inplace=True)\n",
        "listado['Gender'].mask(listado['Gender'] == 'Male', '2', inplace=True)\n",
        "\n",
        "listado['EverBenched'].mask(listado['EverBenched'] == 'Yes', '1', inplace=True)\n",
        "listado['EverBenched'].mask(listado['EverBenched'] == 'No', '0', inplace=True)\n",
        "\n",
        "listado"
      ],
      "metadata": {
        "id": "8_W3zpZUcMdF",
        "colab": {
          "base_uri": "https://localhost:8080/",
          "height": 423
        },
        "outputId": "834582bf-575d-447f-9874-19a9de37ad18"
      },
      "execution_count": null,
      "outputs": [
        {
          "output_type": "execute_result",
          "data": {
            "text/plain": [
              "     Education  JoiningYear City  PaymentTier  Age Gender EverBenched  \\\n",
              "0            1         2016    1            3   28      2           1   \n",
              "1            1         2016    1            3   33      1           0   \n",
              "2            1         2014    1            3   27      1           0   \n",
              "3            1         2012    1            3   38      2           0   \n",
              "4            1         2017    1            3   29      2           0   \n",
              "...        ...          ...  ...          ...  ...    ...         ...   \n",
              "3195         1         2017    1            3   28      2           0   \n",
              "3196         1         2016    1            1   33      1           0   \n",
              "3197         1         2015    3            3   32      1           1   \n",
              "3198         2         2013    3            2   37      2           0   \n",
              "3199         2         2018    2            3   27      2           0   \n",
              "\n",
              "      ExperienceInCurrentDomain  LeaveOrNot  \n",
              "0                             4           0  \n",
              "1                             3           0  \n",
              "2                             5           0  \n",
              "3                             3           0  \n",
              "4                             0           0  \n",
              "...                         ...         ...  \n",
              "3195                          0           1  \n",
              "3196                          0           1  \n",
              "3197                          1           1  \n",
              "3198                          2           1  \n",
              "3199                          5           1  \n",
              "\n",
              "[3200 rows x 9 columns]"
            ],
            "text/html": [
              "\n",
              "  <div id=\"df-a35f6282-f37d-4a3e-8729-7df7ee7271c5\" class=\"colab-df-container\">\n",
              "    <div>\n",
              "<style scoped>\n",
              "    .dataframe tbody tr th:only-of-type {\n",
              "        vertical-align: middle;\n",
              "    }\n",
              "\n",
              "    .dataframe tbody tr th {\n",
              "        vertical-align: top;\n",
              "    }\n",
              "\n",
              "    .dataframe thead th {\n",
              "        text-align: right;\n",
              "    }\n",
              "</style>\n",
              "<table border=\"1\" class=\"dataframe\">\n",
              "  <thead>\n",
              "    <tr style=\"text-align: right;\">\n",
              "      <th></th>\n",
              "      <th>Education</th>\n",
              "      <th>JoiningYear</th>\n",
              "      <th>City</th>\n",
              "      <th>PaymentTier</th>\n",
              "      <th>Age</th>\n",
              "      <th>Gender</th>\n",
              "      <th>EverBenched</th>\n",
              "      <th>ExperienceInCurrentDomain</th>\n",
              "      <th>LeaveOrNot</th>\n",
              "    </tr>\n",
              "  </thead>\n",
              "  <tbody>\n",
              "    <tr>\n",
              "      <th>0</th>\n",
              "      <td>1</td>\n",
              "      <td>2016</td>\n",
              "      <td>1</td>\n",
              "      <td>3</td>\n",
              "      <td>28</td>\n",
              "      <td>2</td>\n",
              "      <td>1</td>\n",
              "      <td>4</td>\n",
              "      <td>0</td>\n",
              "    </tr>\n",
              "    <tr>\n",
              "      <th>1</th>\n",
              "      <td>1</td>\n",
              "      <td>2016</td>\n",
              "      <td>1</td>\n",
              "      <td>3</td>\n",
              "      <td>33</td>\n",
              "      <td>1</td>\n",
              "      <td>0</td>\n",
              "      <td>3</td>\n",
              "      <td>0</td>\n",
              "    </tr>\n",
              "    <tr>\n",
              "      <th>2</th>\n",
              "      <td>1</td>\n",
              "      <td>2014</td>\n",
              "      <td>1</td>\n",
              "      <td>3</td>\n",
              "      <td>27</td>\n",
              "      <td>1</td>\n",
              "      <td>0</td>\n",
              "      <td>5</td>\n",
              "      <td>0</td>\n",
              "    </tr>\n",
              "    <tr>\n",
              "      <th>3</th>\n",
              "      <td>1</td>\n",
              "      <td>2012</td>\n",
              "      <td>1</td>\n",
              "      <td>3</td>\n",
              "      <td>38</td>\n",
              "      <td>2</td>\n",
              "      <td>0</td>\n",
              "      <td>3</td>\n",
              "      <td>0</td>\n",
              "    </tr>\n",
              "    <tr>\n",
              "      <th>4</th>\n",
              "      <td>1</td>\n",
              "      <td>2017</td>\n",
              "      <td>1</td>\n",
              "      <td>3</td>\n",
              "      <td>29</td>\n",
              "      <td>2</td>\n",
              "      <td>0</td>\n",
              "      <td>0</td>\n",
              "      <td>0</td>\n",
              "    </tr>\n",
              "    <tr>\n",
              "      <th>...</th>\n",
              "      <td>...</td>\n",
              "      <td>...</td>\n",
              "      <td>...</td>\n",
              "      <td>...</td>\n",
              "      <td>...</td>\n",
              "      <td>...</td>\n",
              "      <td>...</td>\n",
              "      <td>...</td>\n",
              "      <td>...</td>\n",
              "    </tr>\n",
              "    <tr>\n",
              "      <th>3195</th>\n",
              "      <td>1</td>\n",
              "      <td>2017</td>\n",
              "      <td>1</td>\n",
              "      <td>3</td>\n",
              "      <td>28</td>\n",
              "      <td>2</td>\n",
              "      <td>0</td>\n",
              "      <td>0</td>\n",
              "      <td>1</td>\n",
              "    </tr>\n",
              "    <tr>\n",
              "      <th>3196</th>\n",
              "      <td>1</td>\n",
              "      <td>2016</td>\n",
              "      <td>1</td>\n",
              "      <td>1</td>\n",
              "      <td>33</td>\n",
              "      <td>1</td>\n",
              "      <td>0</td>\n",
              "      <td>0</td>\n",
              "      <td>1</td>\n",
              "    </tr>\n",
              "    <tr>\n",
              "      <th>3197</th>\n",
              "      <td>1</td>\n",
              "      <td>2015</td>\n",
              "      <td>3</td>\n",
              "      <td>3</td>\n",
              "      <td>32</td>\n",
              "      <td>1</td>\n",
              "      <td>1</td>\n",
              "      <td>1</td>\n",
              "      <td>1</td>\n",
              "    </tr>\n",
              "    <tr>\n",
              "      <th>3198</th>\n",
              "      <td>2</td>\n",
              "      <td>2013</td>\n",
              "      <td>3</td>\n",
              "      <td>2</td>\n",
              "      <td>37</td>\n",
              "      <td>2</td>\n",
              "      <td>0</td>\n",
              "      <td>2</td>\n",
              "      <td>1</td>\n",
              "    </tr>\n",
              "    <tr>\n",
              "      <th>3199</th>\n",
              "      <td>2</td>\n",
              "      <td>2018</td>\n",
              "      <td>2</td>\n",
              "      <td>3</td>\n",
              "      <td>27</td>\n",
              "      <td>2</td>\n",
              "      <td>0</td>\n",
              "      <td>5</td>\n",
              "      <td>1</td>\n",
              "    </tr>\n",
              "  </tbody>\n",
              "</table>\n",
              "<p>3200 rows × 9 columns</p>\n",
              "</div>\n",
              "    <div class=\"colab-df-buttons\">\n",
              "\n",
              "  <div class=\"colab-df-container\">\n",
              "    <button class=\"colab-df-convert\" onclick=\"convertToInteractive('df-a35f6282-f37d-4a3e-8729-7df7ee7271c5')\"\n",
              "            title=\"Convert this dataframe to an interactive table.\"\n",
              "            style=\"display:none;\">\n",
              "\n",
              "  <svg xmlns=\"http://www.w3.org/2000/svg\" height=\"24px\" viewBox=\"0 -960 960 960\">\n",
              "    <path d=\"M120-120v-720h720v720H120Zm60-500h600v-160H180v160Zm220 220h160v-160H400v160Zm0 220h160v-160H400v160ZM180-400h160v-160H180v160Zm440 0h160v-160H620v160ZM180-180h160v-160H180v160Zm440 0h160v-160H620v160Z\"/>\n",
              "  </svg>\n",
              "    </button>\n",
              "\n",
              "  <style>\n",
              "    .colab-df-container {\n",
              "      display:flex;\n",
              "      gap: 12px;\n",
              "    }\n",
              "\n",
              "    .colab-df-convert {\n",
              "      background-color: #E8F0FE;\n",
              "      border: none;\n",
              "      border-radius: 50%;\n",
              "      cursor: pointer;\n",
              "      display: none;\n",
              "      fill: #1967D2;\n",
              "      height: 32px;\n",
              "      padding: 0 0 0 0;\n",
              "      width: 32px;\n",
              "    }\n",
              "\n",
              "    .colab-df-convert:hover {\n",
              "      background-color: #E2EBFA;\n",
              "      box-shadow: 0px 1px 2px rgba(60, 64, 67, 0.3), 0px 1px 3px 1px rgba(60, 64, 67, 0.15);\n",
              "      fill: #174EA6;\n",
              "    }\n",
              "\n",
              "    .colab-df-buttons div {\n",
              "      margin-bottom: 4px;\n",
              "    }\n",
              "\n",
              "    [theme=dark] .colab-df-convert {\n",
              "      background-color: #3B4455;\n",
              "      fill: #D2E3FC;\n",
              "    }\n",
              "\n",
              "    [theme=dark] .colab-df-convert:hover {\n",
              "      background-color: #434B5C;\n",
              "      box-shadow: 0px 1px 3px 1px rgba(0, 0, 0, 0.15);\n",
              "      filter: drop-shadow(0px 1px 2px rgba(0, 0, 0, 0.3));\n",
              "      fill: #FFFFFF;\n",
              "    }\n",
              "  </style>\n",
              "\n",
              "    <script>\n",
              "      const buttonEl =\n",
              "        document.querySelector('#df-a35f6282-f37d-4a3e-8729-7df7ee7271c5 button.colab-df-convert');\n",
              "      buttonEl.style.display =\n",
              "        google.colab.kernel.accessAllowed ? 'block' : 'none';\n",
              "\n",
              "      async function convertToInteractive(key) {\n",
              "        const element = document.querySelector('#df-a35f6282-f37d-4a3e-8729-7df7ee7271c5');\n",
              "        const dataTable =\n",
              "          await google.colab.kernel.invokeFunction('convertToInteractive',\n",
              "                                                    [key], {});\n",
              "        if (!dataTable) return;\n",
              "\n",
              "        const docLinkHtml = 'Like what you see? Visit the ' +\n",
              "          '<a target=\"_blank\" href=https://colab.research.google.com/notebooks/data_table.ipynb>data table notebook</a>'\n",
              "          + ' to learn more about interactive tables.';\n",
              "        element.innerHTML = '';\n",
              "        dataTable['output_type'] = 'display_data';\n",
              "        await google.colab.output.renderOutput(dataTable, element);\n",
              "        const docLink = document.createElement('div');\n",
              "        docLink.innerHTML = docLinkHtml;\n",
              "        element.appendChild(docLink);\n",
              "      }\n",
              "    </script>\n",
              "  </div>\n",
              "\n",
              "\n",
              "<div id=\"df-1b6273b4-a3f2-47df-a640-d96ecd9c9868\">\n",
              "  <button class=\"colab-df-quickchart\" onclick=\"quickchart('df-1b6273b4-a3f2-47df-a640-d96ecd9c9868')\"\n",
              "            title=\"Suggest charts.\"\n",
              "            style=\"display:none;\">\n",
              "\n",
              "<svg xmlns=\"http://www.w3.org/2000/svg\" height=\"24px\"viewBox=\"0 0 24 24\"\n",
              "     width=\"24px\">\n",
              "    <g>\n",
              "        <path d=\"M19 3H5c-1.1 0-2 .9-2 2v14c0 1.1.9 2 2 2h14c1.1 0 2-.9 2-2V5c0-1.1-.9-2-2-2zM9 17H7v-7h2v7zm4 0h-2V7h2v10zm4 0h-2v-4h2v4z\"/>\n",
              "    </g>\n",
              "</svg>\n",
              "  </button>\n",
              "\n",
              "<style>\n",
              "  .colab-df-quickchart {\n",
              "      --bg-color: #E8F0FE;\n",
              "      --fill-color: #1967D2;\n",
              "      --hover-bg-color: #E2EBFA;\n",
              "      --hover-fill-color: #174EA6;\n",
              "      --disabled-fill-color: #AAA;\n",
              "      --disabled-bg-color: #DDD;\n",
              "  }\n",
              "\n",
              "  [theme=dark] .colab-df-quickchart {\n",
              "      --bg-color: #3B4455;\n",
              "      --fill-color: #D2E3FC;\n",
              "      --hover-bg-color: #434B5C;\n",
              "      --hover-fill-color: #FFFFFF;\n",
              "      --disabled-bg-color: #3B4455;\n",
              "      --disabled-fill-color: #666;\n",
              "  }\n",
              "\n",
              "  .colab-df-quickchart {\n",
              "    background-color: var(--bg-color);\n",
              "    border: none;\n",
              "    border-radius: 50%;\n",
              "    cursor: pointer;\n",
              "    display: none;\n",
              "    fill: var(--fill-color);\n",
              "    height: 32px;\n",
              "    padding: 0;\n",
              "    width: 32px;\n",
              "  }\n",
              "\n",
              "  .colab-df-quickchart:hover {\n",
              "    background-color: var(--hover-bg-color);\n",
              "    box-shadow: 0 1px 2px rgba(60, 64, 67, 0.3), 0 1px 3px 1px rgba(60, 64, 67, 0.15);\n",
              "    fill: var(--button-hover-fill-color);\n",
              "  }\n",
              "\n",
              "  .colab-df-quickchart-complete:disabled,\n",
              "  .colab-df-quickchart-complete:disabled:hover {\n",
              "    background-color: var(--disabled-bg-color);\n",
              "    fill: var(--disabled-fill-color);\n",
              "    box-shadow: none;\n",
              "  }\n",
              "\n",
              "  .colab-df-spinner {\n",
              "    border: 2px solid var(--fill-color);\n",
              "    border-color: transparent;\n",
              "    border-bottom-color: var(--fill-color);\n",
              "    animation:\n",
              "      spin 1s steps(1) infinite;\n",
              "  }\n",
              "\n",
              "  @keyframes spin {\n",
              "    0% {\n",
              "      border-color: transparent;\n",
              "      border-bottom-color: var(--fill-color);\n",
              "      border-left-color: var(--fill-color);\n",
              "    }\n",
              "    20% {\n",
              "      border-color: transparent;\n",
              "      border-left-color: var(--fill-color);\n",
              "      border-top-color: var(--fill-color);\n",
              "    }\n",
              "    30% {\n",
              "      border-color: transparent;\n",
              "      border-left-color: var(--fill-color);\n",
              "      border-top-color: var(--fill-color);\n",
              "      border-right-color: var(--fill-color);\n",
              "    }\n",
              "    40% {\n",
              "      border-color: transparent;\n",
              "      border-right-color: var(--fill-color);\n",
              "      border-top-color: var(--fill-color);\n",
              "    }\n",
              "    60% {\n",
              "      border-color: transparent;\n",
              "      border-right-color: var(--fill-color);\n",
              "    }\n",
              "    80% {\n",
              "      border-color: transparent;\n",
              "      border-right-color: var(--fill-color);\n",
              "      border-bottom-color: var(--fill-color);\n",
              "    }\n",
              "    90% {\n",
              "      border-color: transparent;\n",
              "      border-bottom-color: var(--fill-color);\n",
              "    }\n",
              "  }\n",
              "</style>\n",
              "\n",
              "  <script>\n",
              "    async function quickchart(key) {\n",
              "      const quickchartButtonEl =\n",
              "        document.querySelector('#' + key + ' button');\n",
              "      quickchartButtonEl.disabled = true;  // To prevent multiple clicks.\n",
              "      quickchartButtonEl.classList.add('colab-df-spinner');\n",
              "      try {\n",
              "        const charts = await google.colab.kernel.invokeFunction(\n",
              "            'suggestCharts', [key], {});\n",
              "      } catch (error) {\n",
              "        console.error('Error during call to suggestCharts:', error);\n",
              "      }\n",
              "      quickchartButtonEl.classList.remove('colab-df-spinner');\n",
              "      quickchartButtonEl.classList.add('colab-df-quickchart-complete');\n",
              "    }\n",
              "    (() => {\n",
              "      let quickchartButtonEl =\n",
              "        document.querySelector('#df-1b6273b4-a3f2-47df-a640-d96ecd9c9868 button');\n",
              "      quickchartButtonEl.style.display =\n",
              "        google.colab.kernel.accessAllowed ? 'block' : 'none';\n",
              "    })();\n",
              "  </script>\n",
              "</div>\n",
              "    </div>\n",
              "  </div>\n"
            ]
          },
          "metadata": {},
          "execution_count": 19
        }
      ]
    },
    {
      "cell_type": "markdown",
      "source": [
        "# Separado entre Training y Test"
      ],
      "metadata": {
        "id": "s1Tb-3puwrpI"
      }
    },
    {
      "cell_type": "code",
      "source": [
        "kmeans = KMeans(n_clusters=2)\n",
        "stay_workers = listado[listado['LeaveOrNot'] == 0]\n",
        "leave_workers = listado[listado['LeaveOrNot'] == 1]\n",
        "\n",
        "# Sample 2 rows from the DataFrame\n",
        "training_stay = stay_workers.sample(n=1280, replace=False)\n",
        "training_leave = leave_workers.sample(n=1280, replace=False)\n",
        "\n",
        "# Remove the sampled rows from the original DataFrame\n",
        "test_stay = stay_workers.drop(training_stay.index)\n",
        "test_leave = leave_workers.drop(training_leave.index)\n",
        "\n",
        "listado_training = [training_leave, training_stay]\n",
        "listado_testing = [test_leave, test_stay]\n",
        "\n",
        "listado_training = pd.concat(listado_training)\n",
        "listado_testing = pd.concat(listado_testing)\n",
        "\n",
        "labels_correct = listado_training['LeaveOrNot']\n",
        "listado_training.drop(columns='LeaveOrNot', inplace=True)\n",
        "\n",
        "labels_test_correct = listado_testing['LeaveOrNot']\n",
        "listado_testing.drop(columns='LeaveOrNot', inplace=True)"
      ],
      "metadata": {
        "id": "bA7iQa7r-Amy"
      },
      "execution_count": null,
      "outputs": []
    },
    {
      "cell_type": "markdown",
      "source": [
        "# Entrenamiento KNN"
      ],
      "metadata": {
        "id": "scNdGsP1xEpa"
      }
    },
    {
      "cell_type": "code",
      "source": [
        "from sklearn.neighbors import KNeighborsClassifier\n",
        "\n",
        "knn = KNeighborsClassifier(n_neighbors=2)\n",
        "knn.fit(listado_training, labels_correct)\n",
        "\n",
        "predicted_values = knn.predict(listado_testing)\n",
        "\n",
        "\n",
        "# Calculate accuracy, mean squared error (MSE), bias and variance\n",
        "accuracy = accuracy_score(labels_test_correct, predicted_values)\n",
        "mse = np.mean((predicted_values - labels_test_correct) ** 2)\n",
        "bias = np.mean(predicted_values) - np.mean(labels_test_correct)\n",
        "variance = np.mean((predicted_values - np.mean(predicted_values)) ** 2)\n",
        "\n",
        "# Print testing results\n",
        "print(\"Accuracy:\", accuracy)\n",
        "print(\"MSE:\", mse)\n",
        "print(\"Bias:\", bias)\n",
        "print(\"Variance:\", variance)"
      ],
      "metadata": {
        "colab": {
          "base_uri": "https://localhost:8080/"
        },
        "id": "_sauEuMYZpyh",
        "outputId": "16c124e3-fec0-4870-d997-b2fa517c6967"
      },
      "execution_count": null,
      "outputs": [
        {
          "output_type": "stream",
          "name": "stdout",
          "text": [
            "Accuracy: 0.6765625\n",
            "MSE: 0.3234375\n",
            "Bias: -0.02656249999999999\n",
            "Variance: 0.24929443359375\n"
          ]
        }
      ]
    },
    {
      "cell_type": "markdown",
      "source": [
        "# Entrenamiento SVM"
      ],
      "metadata": {
        "id": "4t5opnBdxIzo"
      }
    },
    {
      "cell_type": "code",
      "source": [
        "clf = svm.SVC()\n",
        "clf.fit(listado_training, labels_correct)\n",
        "\n",
        "predicted_values = clf.predict(listado_testing)\n",
        "\n",
        "\n",
        "# Calculate accuracy, mean squared error (MSE), bias and variance\n",
        "accuracy = accuracy_score(labels_test_correct, predicted_values)\n",
        "mse = np.mean((predicted_values - labels_test_correct) ** 2)\n",
        "bias = np.mean(predicted_values) - np.mean(labels_test_correct)\n",
        "variance = np.mean((predicted_values - np.mean(predicted_values)) ** 2)\n",
        "\n",
        "# Print testing results\n",
        "print(\"Accuracy:\", accuracy)\n",
        "print(\"MSE:\", mse)\n",
        "print(\"Bias:\", bias)\n",
        "print(\"Variance:\", variance)"
      ],
      "metadata": {
        "colab": {
          "base_uri": "https://localhost:8080/"
        },
        "id": "8cVsYdykxMGo",
        "outputId": "db239267-106a-4e7d-a46f-8b7c5098da1f"
      },
      "execution_count": null,
      "outputs": [
        {
          "output_type": "stream",
          "name": "stdout",
          "text": [
            "Accuracy: 0.5359375\n",
            "MSE: 0.4640625\n",
            "Bias: 0.25468749999999996\n",
            "Variance: 0.18513427734375\n"
          ]
        }
      ]
    },
    {
      "cell_type": "markdown",
      "source": [
        "# Entrenamiento arboles de decisión"
      ],
      "metadata": {
        "id": "gY1lJ2dF4iGJ"
      }
    },
    {
      "cell_type": "code",
      "source": [
        "clf = DecisionTreeClassifier()\n",
        "clf.fit(listado_training, labels_correct)\n",
        "\n",
        "predicted_values = clf.predict(listado_testing)\n",
        "\n",
        "\n",
        "# Calculate accuracy, mean squared error (MSE), bias and variance\n",
        "accuracy = accuracy_score(labels_test_correct, predicted_values)\n",
        "mse = np.mean((predicted_values - labels_test_correct) ** 2)\n",
        "bias = np.mean(predicted_values) - np.mean(labels_test_correct)\n",
        "variance = np.mean((predicted_values - np.mean(predicted_values)) ** 2)\n",
        "\n",
        "# Print testing results\n",
        "print(\"Accuracy:\", accuracy)\n",
        "print(\"MSE:\", mse)\n",
        "print(\"Bias:\", bias)\n",
        "print(\"Variance:\", variance)"
      ],
      "metadata": {
        "colab": {
          "base_uri": "https://localhost:8080/"
        },
        "id": "hsf925BN4ngQ",
        "outputId": "de701bd5-89c0-400b-f600-777e9a854234"
      },
      "execution_count": null,
      "outputs": [
        {
          "output_type": "stream",
          "name": "stdout",
          "text": [
            "Accuracy: 0.7328125\n",
            "MSE: 0.2671875\n",
            "Bias: -0.02656249999999999\n",
            "Variance: 0.24929443359375006\n"
          ]
        }
      ]
    },
    {
      "cell_type": "markdown",
      "source": [
        "# Red  Neuronal"
      ],
      "metadata": {
        "id": "EMNrtsN4Pbzq"
      }
    },
    {
      "cell_type": "code",
      "source": [
        "clf = MLPClassifier(hidden_layer_sizes=(40,), max_iter=1000, solver='adam', random_state=42)\n",
        "clf.fit(listado_training, labels_correct)\n",
        "\n",
        "predicted_values = clf.predict(listado_testing)\n",
        "\n",
        "\n",
        "# Calculate accuracy, mean squared error (MSE), bias and variance\n",
        "accuracy = accuracy_score(labels_test_correct, predicted_values)\n",
        "mse = np.mean((predicted_values - labels_test_correct) ** 2)\n",
        "bias = np.mean(predicted_values) - np.mean(labels_test_correct)\n",
        "variance = np.mean((predicted_values - np.mean(predicted_values)) ** 2)\n",
        "\n",
        "# Print testing results\n",
        "print(\"Accuracy:\", accuracy)\n",
        "print(\"MSE:\", mse)\n",
        "print(\"Bias:\", bias)\n",
        "print(\"Variance:\", variance)"
      ],
      "metadata": {
        "colab": {
          "base_uri": "https://localhost:8080/"
        },
        "id": "i62SUYyuj5pX",
        "outputId": "c95d3a80-17c2-48b8-b375-c0b412e5f672"
      },
      "execution_count": null,
      "outputs": [
        {
          "output_type": "stream",
          "name": "stdout",
          "text": [
            "Accuracy: 0.5625\n",
            "MSE: 0.4375\n",
            "Bias: 0.19999999999999996\n",
            "Variance: 0.20999999999999996\n"
          ]
        }
      ]
    },
    {
      "cell_type": "code",
      "source": [
        "labels_test_correct"
      ],
      "metadata": {
        "colab": {
          "base_uri": "https://localhost:8080/"
        },
        "id": "GVCClHk1P0Zo",
        "outputId": "cb7f5daa-3514-4d54-d5fd-82fdcde50adc"
      },
      "execution_count": null,
      "outputs": [
        {
          "output_type": "execute_result",
          "data": {
            "text/plain": [
              "1600    1\n",
              "1604    1\n",
              "1606    1\n",
              "1609    1\n",
              "1613    1\n",
              "       ..\n",
              "1573    0\n",
              "1584    0\n",
              "1586    0\n",
              "1588    0\n",
              "1599    0\n",
              "Name: LeaveOrNot, Length: 640, dtype: int64"
            ]
          },
          "metadata": {},
          "execution_count": 28
        }
      ]
    },
    {
      "cell_type": "code",
      "source": [
        "import matplotlib.pyplot as plt\n",
        "import numpy\n",
        "from sklearn import metrics\n",
        "\n",
        "from sklearn.metrics import confusion_matrix\n",
        "import matplotlib.pyplot as plt\n",
        "import numpy as np\n",
        "\n",
        "confusion_matrix = confusion_matrix(labels_test_correct, predicted_values)\n",
        "\n",
        "cm_display = metrics.ConfusionMatrixDisplay(confusion_matrix = confusion_matrix, display_labels = [False, True])\n",
        "\n",
        "cm_display.plot()\n",
        "plt.show()\n"
      ],
      "metadata": {
        "colab": {
          "base_uri": "https://localhost:8080/",
          "height": 449
        },
        "id": "Qlb4hBGXPlGy",
        "outputId": "f2b11d6f-cdbb-4669-b37e-12d081257509"
      },
      "execution_count": null,
      "outputs": [
        {
          "output_type": "display_data",
          "data": {
            "text/plain": [
              "<Figure size 640x480 with 2 Axes>"
            ],
            "image/png": "[encoded data removed]"
          },
          "metadata": {}
        }
      ]
    }
  ]
}